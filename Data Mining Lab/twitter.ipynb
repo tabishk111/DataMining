{
 "cells": [
  {
   "cell_type": "code",
   "execution_count": 10,
   "id": "83bb89cf",
   "metadata": {},
   "outputs": [],
   "source": [
    "import tweepy\n",
    "import emoji\n",
    "import pandas as pd\n",
    "import csv\n",
    "import re\n",
    "\n",
    "api = tweepy.Client(bearer_token = 'AAAAAAAAAAAAAAAAAAAAABFSgwEAAAAAXNsxLDButFRhpE%2B23HYFsYfqBSI%3Db0cHagRMWga6nJUeliGueCIgnNAMznueIT6ORKyUiDOhVopNm9')\n",
    "\n",
    "def search_tweets(query, max_results):\n",
    "    tweets = api.search_recent_tweets(query = query + \" -RT\", max_results = max_results)\n",
    "    return tweets\n",
    "\n",
    "tweet = search_tweets('Indian Air Force', 20)\n",
    "\n",
    "res = []\n",
    "sentence = []\n",
    "wor = []\n",
    "data = []\n",
    "for say in tweet.data:\n",
    "  say.text = re.sub(',+', '', say.text)\n",
    "  say.text = re.sub('-+', '', say.text)\n",
    "  say.text = re.sub('@+','',say.text)\n",
    "  say.text = re.sub('#[^\\s]+', '',say.text)\n",
    "  say.text = re.sub('http[^\\s]+','URL',say.text)\n",
    "  res.append(say.text.lower())\n",
    "\n",
    "for twe in res:\n",
    "    word = twe.split(' ')\n",
    "    wor.append(word)\n",
    "    word1 = twe.split('.')\n",
    "    sentence.append(word1)\n",
    "\n",
    "for a in wor:\n",
    "    d1 = []\n",
    "    for p in a:\n",
    "        p = emoji.demojize(p)\n",
    "        p = re.sub('_+', \" \", p)\n",
    "        d1.append(p)\n",
    "    data.append(d1)\n",
    "\n",
    "for b in sentence:\n",
    "    d2 = []\n",
    "    for k in b:\n",
    "       k = emoji.demojize(k)\n",
    "       k = re.sub('_+', \" \", k)\n",
    "       d2.append(k)\n",
    "    data.append(d2)   \n",
    "\n",
    "with open('tweets.csv', 'w', encoding ='UTF8', newline='') as f:\n",
    "    writer = csv.writer(f)\n",
    "    for row in data:\n",
    "        writer.writerow(row)\n",
    "\n"
   ]
  },
  {
   "cell_type": "code",
   "execution_count": 8,
   "id": "515f66ad",
   "metadata": {},
   "outputs": [
    {
     "name": "stdout",
     "output_type": "stream",
     "text": [
      "Collecting emoji\n",
      "  Downloading emoji-2.2.0.tar.gz (240 kB)\n",
      "     -------------------------------------- 240.9/240.9 kB 1.8 MB/s eta 0:00:00\n",
      "  Preparing metadata (setup.py): started\n",
      "  Preparing metadata (setup.py): finished with status 'done'\n",
      "Building wheels for collected packages: emoji\n",
      "  Building wheel for emoji (setup.py): started\n",
      "  Building wheel for emoji (setup.py): finished with status 'done'\n",
      "  Created wheel for emoji: filename=emoji-2.2.0-py3-none-any.whl size=234912 sha256=6c5db7a54c4236fc0e222e5a2e1de18d2ba26fcc14d70071079ca98facad9f1d\n",
      "  Stored in directory: c:\\users\\tabish\\appdata\\local\\pip\\cache\\wheels\\9a\\b8\\0f\\f580817231cbf59f6ade9fd132ff60ada1de9f7dc85521f857\n",
      "Successfully built emoji\n",
      "Installing collected packages: emoji\n",
      "Successfully installed emoji-2.2.0\n",
      "Note: you may need to restart the kernel to use updated packages.\n"
     ]
    }
   ],
   "source": [
    "pip install emoji\n"
   ]
  },
  {
   "cell_type": "code",
   "execution_count": null,
   "id": "d39f2f1b",
   "metadata": {},
   "outputs": [],
   "source": []
  }
 ],
 "metadata": {
  "kernelspec": {
   "display_name": "Python 3 (ipykernel)",
   "language": "python",
   "name": "python3"
  },
  "language_info": {
   "codemirror_mode": {
    "name": "ipython",
    "version": 3
   },
   "file_extension": ".py",
   "mimetype": "text/x-python",
   "name": "python",
   "nbconvert_exporter": "python",
   "pygments_lexer": "ipython3",
   "version": "3.9.13"
  }
 },
 "nbformat": 4,
 "nbformat_minor": 5
}
