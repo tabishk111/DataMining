{
 "cells": [
  {
   "cell_type": "code",
   "execution_count": 4,
   "id": "4d12e707",
   "metadata": {},
   "outputs": [
    {
     "name": "stdout",
     "output_type": "stream",
     "text": [
      "[['FIFA', 'International Federation of Association FootballFédération Internationale de Football Association (French)(FIFA)Map of the members of FIFA according to their confederationAbbreviationFIFA[1]Founded21\\xa0May 1904; 118 years ago\\xa0(1904-05-21)Founded atParis, FranceTypeSports federationPurposeSport governanceHeadquartersZürich, SwitzerlandCoordinates47°22′53″N 8°34′28″E\\ufeff / \\ufeff47.38139°N 8.57444°E\\ufeff / 47.38139; 8.57444Coordinates: 47°22′53″N 8°34′28″E\\ufeff / \\ufeff47.38139°N 8.57444°E\\ufeff / 47.38139; 8.57444Region served WorldwideMembership  211 national associationsPresidentGianni InfantinoSenior Vice-PresidentSalman bin Ibrahim Al Khalifa (AFC)Vice-Presidents\\nAlejandro Domínguez (CONMEBOL)\\nAleksander Čeferin (UEFA)\\nLambert Maltock (OFC)\\nPatrice Motsepe (CAF)\\nVictor Montagliani (CONCACAF)\\nSándor Csányi[2]\\nSecretary GeneralFatma SamouraMain organFIFA CongressSubsidiaries\\nAFC (Asia and Australia)\\nCAF (Africa)\\nCONCACAF (North America)\\nCONMEBOL (South America)\\nOFC (Oceania)\\nUEFA (Europe)\\nAffiliationsInternational Olympic CommitteeInternational Football Association BoardStaff  751WebsiteFIFA.com', 'FIFA (/ˈfiːfə/; stands for Fédération Internationale de Football Association (French), meaning International Federation of Association Football) is the international governing body of association football, beach football and futsal. It was founded in 1904[3] to oversee international competition among the national associations of Belgium, Denmark, France, Germany, the Netherlands, Spain, Sweden and Switzerland. Headquartered in Zürich, Switzerland, its membership now comprises 211 national associations. These national associations must each also be members of one of the six regional confederations into which the world is divided: CAF (Africa), AFC (Asia and Australia), UEFA (Europe), CONCACAF (North & Central America and the Caribbean), OFC (Oceania) and CONMEBOL (South America).\\n'], ['Fifa (disambiguation)', 'No InfoBox', 'Fifa may refer to:\\n'], ['French language', 'FrenchfrançaisPronunciation[fʁɑ̃sɛ]Native\\xa0toFrance, now worldwideNative speakers76.8 million321 million total (L1 plus L2; 2022)[1][2]Language familyIndo-European\\n\\nItalicLatino-FaliscanRomanceWestern RomanceGallo-RomanceOïlFrenchEarly formsOld Latin\\nClassical Latin\\nVulgar Latin\\nOld Gallo-Romance\\nOld French\\nMiddle French\\n\\n\\n\\n\\n\\nWriting systemLatin (French alphabet)French BrailleSigned formsSigned French(français signé)Official statusOfficial language\\xa0in\\n29 countries\\nBelgium\\nBenin\\nBurkina Faso\\nBurundi\\nCameroon\\nCanada\\nCentral African Republic\\nChad\\nComoros\\nCongo\\nDemocratic Republic of the Congo\\nDjibouti\\nEquatorial Guinea\\nFrance\\nGabon\\nGuinea\\nHaiti\\nIvory Coast\\nLuxembourg\\nMadagascar\\nMali\\nMonaco\\nNiger\\nRwanda\\nSenegal\\nSeychelles\\nSwitzerland\\nTogo\\nVanuatu\\n\\n\\n\\nAdministrative/cultural\\nAlgeria\\nCambodia\\nLaos\\nLebanon\\nMauritania\\nMauritius\\nMorocco\\nTunisia\\nVietnam\\n\\n\\n\\n10 dependent and sub-regional entities\\nAosta Valley (Italy)\\nFrench Polynesia\\nLouisiana (United States)\\nMaine (United States)\\nNew Caledonia\\nNew Hampshire (United States)\\nSaint Barthélemy\\nSaint Martin\\nSaint Pierre and Miquelon\\nWallis and Futuna\\n\\n\\n\\nIntergovernmental organizations\\nFrancophonie\\nUnited Nations\\nInternational Olympic Committee\\nEuropean Union\\nAfrican Union\\nNATO\\nWorld Trade Organization\\nCouncil of Europe\\n\\nRegulated\\xa0byAcadémie Française (French Academy) (France)  Office québécois de la langue française (Quebec Board of the French Language) (Quebec)Language codesISO 639-1frISO 639-2fre\\xa0(B) fra\\xa0(T)ISO 639-3fraGlottologstan1290Linguasphere51-AAA-i\\xa0\\xa0States where French is the majority native language\\n\\xa0\\xa0States where it is an official or administrative language but not a majority native language\\n\\xa0\\xa0States where it is a minority or secondary language\\n\\xa0\\xa0States that have a local francophone minorityThis article contains IPA phonetic symbols. Without proper rendering support, you may see question marks, boxes, or other symbols instead of Unicode characters. For an introductory guide on IPA symbols, see Help:IPA.', '\\n'], ['Paris', 'ParisCapital cityEiffel TowerArc de TriomphePalais GarnierThe Louvre\\n\\nFlagCoat of armsMotto(s):\\xa0Fluctuat nec mergitur\"Tossed by the waves but never sunk\"Location of Paris\\nParisShow map of FranceParisShow map of Île-de-France (region)Coordinates: 48°51′24″N 2°21′08″E\\ufeff / \\ufeff48.856613°N 2.352222°E\\ufeff / 48.856613; 2.352222Coordinates: 48°51′24″N 2°21′08″E\\ufeff / \\ufeff48.856613°N 2.352222°E\\ufeff / 48.856613; 2.352222CountryFranceRegionÎle-de-FranceDepartmentParisIntercommunalityMétropole du Grand ParisSubdivisions20 arrondissementsGovernment\\xa0•\\xa0Mayor (2020–2026) Anne Hidalgo (PS)Area1105.4\\xa0km2 (40.7\\xa0sq\\xa0mi)\\xa0•\\xa0Urban\\xa0(2020)2,853.5\\xa0km2 (1,101.7\\xa0sq\\xa0mi)\\xa0•\\xa0Metro\\xa0(2020)18,940.7\\xa0km2 (7,313.0\\xa0sq\\xa0mi)Population\\xa0(Jan.\\xa02019)[1]2,165,423\\xa0•\\xa0Density21,000/km2 (53,000/sq\\xa0mi)\\xa0•\\xa0Urban\\xa0(2019[2])10,858,852\\xa0•\\xa0Urban\\xa0density3,800/km2 (9,900/sq\\xa0mi)\\xa0•\\xa0Metro\\xa0(Jan.\\xa02017[3])13,024,518\\xa0•\\xa0Metro\\xa0density690/km2 (1,800/sq\\xa0mi)Demonym(s)Parisian(s) (en) Parisien(s) (masc.), Parisienne(s) (fem.) (fr), Parigot(s) (masc.), \"Parigote(s)\" (fem.) (fr, colloquial)Time zoneUTC+01:00 (CET)\\xa0•\\xa0Summer (DST)UTC+02:00 (CEST)INSEE/Postal code75056 /75001-75020, 75116Elevation28–131\\xa0m (92–430\\xa0ft) (avg. 78\\xa0m or 256\\xa0ft)Websitewww.paris.fr1 French Land Register data, which excludes lakes, ponds, glaciers > 1\\xa0km2 (0.386\\xa0sq\\xa0mi or 247 acres) and river estuaries.', '\\n'], ['France', 'French RepublicRépublique française\\xa0(French)\\n\\n\\nFlag\\n\\n\\n\\nEmblem[I]\\n\\nMotto:\\xa0\"Liberté, égalité, fraternité\"(\"Liberty, Equality, Fraternity\")Anthem:\\xa0\"La Marseillaise\"Great Seal France on the globe centred on EuropeMetropolitan France (European part of France) in EuropeFrance and its overseas territories in the worldLocation of\\xa0France\\xa0(red or dark green)–\\xa0in Europe\\xa0(green &\\xa0dark grey)–\\xa0in the European Union\\xa0(green)Capitaland largest cityParis48°51′N 2°21′E\\ufeff / \\ufeff48.850°N 2.350°E\\ufeff / 48.850; 2.350Official languageand national languageFrench[II]Nationality (2021)92.3% French7.7% Others[3]\\nReligion  (2016)[4]51.1% Christianity39.6% No religion5.6% Islam0.8% Judaism2.5% OthersDemonym(s)FrenchGovernmentUnitary semi-presidential republic•\\xa0President Emmanuel Macron•\\xa0Prime Minister Élisabeth Borne\\nLegislatureParliament•\\xa0Upper houseSenate•\\xa0Lower houseNational AssemblyEstablishment•\\xa0Kingdom of the West Franks - Treaty of Verdun 10 August 843•\\xa0Kingdom of France - Capetian rulers of France 3 July 987•\\xa0French Republic - French First Republic 22 September 1792•\\xa0Founded the EEC[III] 1 January 1958•\\xa0Current\\xa0constitution - French Fifth Republic 4 October 1958\\nArea •\\xa0Total643,801\\xa0km2 (248,573\\xa0sq\\xa0mi)[5] (42nd)•\\xa0Water\\xa0(%)0.86 (2015)[6]•\\xa0Metropolitan France (IGN)551,695\\xa0km2 (213,011\\xa0sq\\xa0mi)[IV] (50th)•\\xa0Metropolitan France (Cadastre)543,940.9\\xa0km2 (210,016.8\\xa0sq\\xa0mi)[V][7] (50th)Population•\\xa0July 2022 estimate 67,897,000[8] (20th)•\\xa0Density105.4627/km2 (106th)•\\xa0Metropolitan France, estimate as of July 2022[update] 65,707,000[9] (23rd)•\\xa0Density121/km2 (313.4/sq\\xa0mi) (89th)GDP\\xa0(PPP)2022\\xa0estimate•\\xa0Total $3.667 trillion[10] (10th)•\\xa0Per capita $56,036[10] (24th)GDP\\xa0(nominal)2022\\xa0estimate•\\xa0Total $2.936 trillion[10] (7th)•\\xa0Per capita $44,747[10] (28th)Gini\\xa0(2020)\\xa029.3[11]lowHDI\\xa0(2021)\\xa00.903[12]very high\\xa0·\\xa028thCurrencyEuro (€) (EUR)[VI]CFP franc (XPF)[VII]Time zoneUTC+1 (Central European Time)•\\xa0Summer\\xa0(DST)UTC+2 (Central European Summer Time[IX])Note: Various other time zones are observed in overseas France.[VIII] Although France is in the UTC (Z) (Western European Time) zone, UTC+01:00 (Central European Time) was enforced as the standard time since 25 February 1940, upon German occupation in WW2, with a +0:50:39 offset (and +1:50:39 during DST) from Paris LMT (UTC+0:09:21).[13]Date formatdd/mm/yyyy (AD)Driving siderightCalling code+33[X]ISO 3166 codeFRInternet TLD.fr[XI]Source gives area of metropolitan France as 551,500 km2 (212,900 sq mi) and lists overseas regions separately, whose areas sum to 89,179 km2 (34,432 sq mi). Adding these give the total shown here for the entire French Republic. The CIA reports the total as 643,801 km2 (248,573 sq mi).', '\\n'], ['Zürich', 'ZürichMunicipality in SwitzerlandFrom top to bottom: View over Zürich from the Grossmünster, the Opera House, Prime Tower at night, ETH main building and Fraumünster church in the old town.\\n\\nFlagCoat of armsLocation of Zürich\\nZürichShow map of SwitzerlandZürichShow map of Canton of ZürichCoordinates: 47°22′28″N 08°32′28″E\\ufeff / \\ufeff47.37444°N 8.54111°E\\ufeff / 47.37444; 8.54111Coordinates: 47°22′28″N 08°32′28″E\\ufeff / \\ufeff47.37444°N 8.54111°E\\ufeff / 47.37444; 8.54111CountrySwitzerlandCantonZürichDistrictZürichGovernment\\xa0•\\xa0ExecutiveStadtrat with 9 members\\xa0•\\xa0MayorStadtpräsidentin\\xa0(list)Corine Mauch\\xa0SPS/PSS(as\\xa0of\\xa0February 2014)\\xa0•\\xa0ParliamentGemeinderat with 125 membersArea[1][2]\\xa0•\\xa0Total87.88\\xa0km2 (33.93\\xa0sq\\xa0mi)Elevation (Zürich Hauptbahnhof)408\\xa0m (1,339\\xa0ft)Highest\\xa0elevation (Uetliberg)871\\xa0m (2,858\\xa0ft)Lowest\\xa0elevation (Limmat)392\\xa0m (1,286\\xa0ft)Population\\xa0(2018-12-31)[3][4]\\xa0•\\xa0Total415,215\\xa0•\\xa0Density4,700/km2 (12,000/sq\\xa0mi)DemonymGerman: Zürcher(in)Time zoneUTC+01:00 (Central European Time)\\xa0•\\xa0Summer (DST)UTC+02:00 (Central European Summer Time)Postal code(s)8000–8099SFOS number0261Surrounded byAdliswil, Dübendorf, Fällanden, Kilchberg, Maur, Oberengstringen, Opfikon, Regensdorf, Rümlang, Schlieren, Stallikon, Uitikon, Urdorf, Wallisellen, ZollikonTwin townsKunming, San FranciscoWebsitewww.stadt-zuerich.ch  SFSO statistics', '\\n'], ['Switzerland', 'Swiss Confederation\\nFive official names\\n\\nSchweizerische Eidgenossenschaft\\xa0(German)Confédération suisse\\xa0(French)Confederazione Svizzera\\xa0(Italian)Confederaziun svizra\\xa0(Romansh)Confoederatio helvetica\\xa0(Latin)[1]\\n\\n\\n\\n\\n\\nFlag\\n\\n\\n\\n Coat of arms\\n\\nMotto:\\xa0(traditional)\"Unus pro omnibus, omnes pro uno\" (Latin)\"One for all, all for one\"Anthem:\\xa0\"Swiss Psalm\"Location of\\xa0Switzerland\\xa0(green)in Europe\\xa0(green and dark grey)Capital\\nNone (de jure)\\nBern (de facto)[a][2][3]\\n46°57′N 7°27′E\\ufeff / \\ufeff46.950°N 7.450°E\\ufeff / 46.950; 7.450Largest cityZürichOfficial\\xa0languages\\nGerman\\nFrench\\nItalian\\nRomansh\\nOther languagesEnglish[b][4]Ethnic\\xa0groups  (2020)[5]\\n74.3% Swiss\\n25.7% Others\\nReligion  (2020)[6][c]\\n62.6% Christianity\\n34.4% Catholicism\\n22.5% Swiss Reformed\\n5.7% Other Christian\\n29.4% No religion5.4% Islam0.6% Hinduism0.9% Others1.1% No answerDemonym(s)English: SwissGerman: Schweizer/SchweizerinFrench: Suisse/SuissesseItalian: svizzero/svizzera or elvetico/elveticaRomansh: Svizzer/SvizraGovernmentFederal assembly-independent[7][8] directorial republic with elements of a semi-direct democracy•\\xa0Federal Council Ignazio Cassis (President)Alain Berset (Vice President)Guy ParmelinUeli MaurerSimonetta SommarugaViola AmherdKarin Keller-Sutter•\\xa0Federal Chancellor Walter Thurnherr\\nLegislatureFederal Assembly•\\xa0Upper houseCouncil of States•\\xa0Lower houseNational CouncilHistory•\\xa0Foundation date c.\\u20091300[d] (traditionally 1 August 1291)•\\xa0Peace of Westphalia 24 October 1648•\\xa0Restoration 7 August 1815•\\xa0Federal state 12 September 1848[e][9]\\nArea •\\xa0Total41,285\\xa0km2 (15,940\\xa0sq\\xa0mi) (132nd)•\\xa0Water\\xa0(%)4.34 (2015)[10]Population•\\xa02020 estimate 8,636,896[11] (99th)•\\xa02015\\xa0census8,327,126[12]•\\xa0Density207/km2 (536.1/sq\\xa0mi) (48th)GDP\\xa0(PPP)2022\\xa0estimate•\\xa0Total $739.49\\xa0billion[13] (35th)•\\xa0Per capita $84,658 [13] (5th)GDP\\xa0(nominal)2022\\xa0estimate•\\xa0Total $841.69\\xa0billion[13] (20th)•\\xa0Per capita $92,434[13] (7th)Gini\\xa0(2018)\\xa029.7[14]lowHDI\\xa0(2021)\\xa00.962[15]very high\\xa0·\\xa01stCurrencySwiss franc (CHF)Time zoneUTC+1 (CET)•\\xa0Summer\\xa0(DST)UTC+2 (CEST)Date formatdd.mm.yyyy (AD)Driving siderightCalling code+41ISO 3166 codeCHInternet TLD.ch, .swiss', '\\n'], ['Geographic coordinate system', 'Geodesy\\nFundamentals\\nGeodesy\\nGeodynamics\\nGeomatics\\nHistory\\n\\nConcepts\\nGeographical distance\\nGeoid\\nFigure of the Earth (radius and circumference)\\nGeodetic coordinates\\nGeodetic datum\\nGeodesic\\nHorizontal position representation\\nLatitude\\xa0/ Longitude\\nMap projection\\nReference ellipsoid\\nSatellite geodesy\\nSpatial reference system\\nSpatial relations\\nVertical positions\\n\\nTechnologies\\nGlobal Nav. Sat. Systems (GNSSs)\\nGlobal Pos. System (GPS)\\nGLONASS (Russia)\\nBeiDou (BDS) (China)\\nGalileo (Europe)\\nNAVIC (India)\\nQuasi-Zenith Sat. Sys. (QZSS) (Japan)\\nDiscrete Global Grid and Geocoding\\n\\nStandards (history) NGVD 29 Sea Level Datum 1929 OSGB36 Ordnance Survey Great Britain 1936 SK-42 Systema Koordinat 1942 goda ED50 European Datum 1950 SAD69 South American Datum 1969 GRS 80 Geodetic Reference System 1980 ISO 6709 Geographic point coord. 1983 NAD 83 North American Datum 1983 WGS 84 World Geodetic System 1984 NAVD 88 N. American Vertical Datum 1988 ETRS89 European Terrestrial Ref. Sys. 1989 GCJ-02 Chinese obfuscated datum 2002 Geo URI Internet link to a point  2010\\nInternational Terrestrial Reference System\\nSpatial Reference System Identifier (SRID)\\nUniversal Transverse Mercator (UTM)\\nvte', '\\n'], [\"List of men's national association football teams\", '\\n\\n\\n\\xa0Afghanistan\\n\\xa0Australia1\\n\\xa0Bahrain2\\n\\xa0Bangladesh\\n\\xa0Bhutan\\n\\xa0Brunei Darussalam\\n\\xa0Cambodia\\n\\xa0China PR3\\n\\xa0Chinese Taipei4\\n\\xa0Guam\\n\\xa0Hong Kong\\n\\xa0India\\n\\n\\n\\xa0Indonesia\\n\\xa0IR Iran5\\n\\xa0Iraq2\\n\\xa0Japan\\n\\xa0Jordan2\\n\\xa0Korea DPR6\\n\\xa0Korea Republic7\\n\\xa0Kuwait2\\n\\xa0Kyrgyz Republic8\\n\\xa0Laos\\n\\xa0Lebanon2\\n\\xa0Macau\\n\\n\\n\\xa0Malaysia\\n\\xa0Maldives\\n\\xa0Mongolia\\n\\xa0Myanmar\\n\\xa0\\xa0\\xa0Nepal\\n\\xa0Northern Mariana Islands9,10\\n\\xa0Oman2\\n\\xa0Pakistan\\n\\xa0Palestine2,11\\n\\xa0Philippines\\n\\xa0Qatar2\\n\\xa0Saudi Arabia2\\n\\n\\n\\xa0Singapore\\n\\xa0Sri Lanka\\n\\xa0Syria2\\n\\xa0Tajikistan\\n\\xa0Thailand\\n\\xa0Timor-Leste\\n\\xa0Turkmenistan\\n\\xa0United Arab Emirates2\\n\\xa0Uzbekistan\\n\\xa0Vietnam\\n\\xa0Yemen2\\n', '\\n'], ['List of presidents of FIFA', 'President of FIFAIncumbentGianni Infantinosince\\xa026 February 2016Fédération Internationale de Football AssociationStyleHis ExcellencyMember ofFIFA CouncilSeatFIFA Headquarters, Zürich, SwitzerlandAppointerFIFA CongressTerm lengthFour yearsElected in the year following a FIFA World Cup(renewable three times)Constituting instrumentFIFA StatutesFormation21 May 1904First holderRobert GuérinDeputySenior Vice President of FIFASalary£2.6 million (FIFA figures for 2015)WebsiteOfficial website', '\\n'], ['Gianni Infantino', 'Gianni InfantinoInfantino in 20189th President of FIFAIncumbentAssumed office 26 February 2016Vice PresidentÁngel María VillarDavid ChungSalman Bin KhalifaPreceded byIssa Hayatou (acting)\\nPersonal detailsBornGiovanni Vincenzo Infantino (1970-03-23) 23 March 1970 (age\\xa052)[1]Brig, Valais, SwitzerlandSpouseLeena Al AshqarChildren4Alma materUniversity of FribourgAwards Order of FriendshipSignature', '\\n']]\n"
     ]
    }
   ],
   "source": [
    "from bs4 import BeautifulSoup\n",
    "import requests\n",
    "import re\n",
    "import csv\n",
    "\n",
    "count = 0\n",
    "def getdata(url):\n",
    "    r = requests.get(url)\n",
    "    return r.text\n",
    "dt = []\n",
    "d1 = []\n",
    "para = []\n",
    "infobox = []\n",
    "title = []\n",
    "link = getdata(\"https://en.wikipedia.org/wiki/FIFA\")\n",
    "soup = BeautifulSoup(link, 'html.parser')\n",
    "\n",
    "p = soup.find('h1').get_text()\n",
    "k = soup.find('table')\n",
    "x = soup.find_all('p')[1].get_text()\n",
    "\n",
    "title.append(p)\n",
    "if k is None:\n",
    "    infobox.append('No InfoBox')\n",
    "else:\n",
    "    infobox.append(k.get_text())\n",
    "\n",
    "para.append(x)\n",
    "\n",
    "alllinks = soup.find_all(\"a\", href = True, text = True)\n",
    "\n",
    "link_text = \"\"\n",
    "for d in alllinks:\n",
    "    if d['href'].find(\"/wiki/\") == -1:\n",
    "        continue\n",
    "    count += 1\n",
    "    link_text = d['href']\n",
    "    x = \"https://en.wikipedia.org\" + link_text\n",
    "    \n",
    "    link = getdata(x)\n",
    "    soup = BeautifulSoup(link, 'html.parser')\n",
    "    k = soup.find('table')\n",
    "    p = soup.find('h1').get_text()\n",
    "    x = soup.find_all('p')[0].get_text()\n",
    "    \n",
    "    title.append(p)\n",
    "    if k is None:\n",
    "        \n",
    "        infobox.append('No InfoBox')\n",
    "    else:\n",
    "      \n",
    "        infobox.append(k.get_text())\n",
    "   \n",
    "    para.append(x)\n",
    "    if count == 10:\n",
    "        break\n",
    "\n",
    "datarow = []\n",
    "count2 = 0\n",
    "while count2 != 11:\n",
    "    d = [title[count2], infobox[count2], para[count2]]\n",
    "    datarow.append(d)\n",
    "    count2 += 1\n",
    "    \n",
    "with open('wiki.csv', 'w', encoding ='UTF8') as f:\n",
    "   writer = csv.writer(f)\n",
    "   print(datarow)\n",
    "   for row in datarow:\n",
    "        writer.writerow(row)\n",
    "\n",
    "\n"
   ]
  },
  {
   "cell_type": "code",
   "execution_count": null,
   "id": "494999cf",
   "metadata": {},
   "outputs": [],
   "source": []
  }
 ],
 "metadata": {
  "kernelspec": {
   "display_name": "Python 3 (ipykernel)",
   "language": "python",
   "name": "python3"
  },
  "language_info": {
   "codemirror_mode": {
    "name": "ipython",
    "version": 3
   },
   "file_extension": ".py",
   "mimetype": "text/x-python",
   "name": "python",
   "nbconvert_exporter": "python",
   "pygments_lexer": "ipython3",
   "version": "3.9.13"
  }
 },
 "nbformat": 4,
 "nbformat_minor": 5
}
